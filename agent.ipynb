{
 "cells": [
  {
   "cell_type": "code",
   "execution_count": 1,
   "metadata": {},
   "outputs": [],
   "source": [
    "import asyncio\n",
    "from autogen_agentchat.agents import AssistantAgent\n",
    "from autogen_agentchat.ui import Console\n",
    "from autogen_agentchat.conditions import TextMentionTermination\n",
    "from autogen_agentchat.teams import RoundRobinGroupChat\n",
    "from autogen_ext.models.openai import OpenAIChatCompletionClient"
   ]
  },
  {
   "cell_type": "code",
   "execution_count": 6,
   "metadata": {},
   "outputs": [
    {
     "name": "stdout",
     "output_type": "stream",
     "text": [
      "---------- user ----------\n",
      "What is the weather in New York?\n",
      "---------- weather_agent ----------\n",
      "[FunctionCall(id='call_GEf8cpFqBr1WEe9Qr9Q7lKDd', arguments='{\"city\":\"New York\"}', name='get_weather')]\n",
      "[Prompt tokens: 78, Completion tokens: 15]\n",
      "---------- weather_agent ----------\n",
      "[FunctionExecutionResult(content='The weather in New York is 73 degrees and Sunny.', call_id='call_GEf8cpFqBr1WEe9Qr9Q7lKDd')]\n",
      "---------- weather_agent ----------\n",
      "The weather in New York is 73 degrees and Sunny.\n",
      "---------- weather_agent ----------\n",
      "TERMINATE\n",
      "[Prompt tokens: 116, Completion tokens: 4]\n",
      "---------- Summary ----------\n",
      "Number of messages: 5\n",
      "Finish reason: Text 'TERMINATE' mentioned\n",
      "Total prompt tokens: 194\n",
      "Total completion tokens: 19\n",
      "Duration: 2.07 seconds\n"
     ]
    }
   ],
   "source": [
    "# Define a tool\n",
    "async def get_weather(city: str) -> str:\n",
    "    return f\"The weather in {city} is 73 degrees and Sunny.\"\n",
    "\n",
    "async def main() -> None:\n",
    "    # Define an agent\n",
    "    weather_agent = AssistantAgent(\n",
    "        name=\"weather_agent\",\n",
    "        model_client=OpenAIChatCompletionClient(\n",
    "            # model=\"gpt-4o-2024-08-06\",\n",
    "            model=\"gpt-3.5-turbo\",\n",
    "            # api_key=\"YOUR_API_KEY\",\n",
    "        ),\n",
    "        tools=[get_weather],\n",
    "    )\n",
    "\n",
    "    # Define termination condition\n",
    "    termination = TextMentionTermination(\"TERMINATE\")\n",
    "\n",
    "    # Define a team\n",
    "    agent_team = RoundRobinGroupChat([weather_agent], termination_condition=termination)\n",
    "\n",
    "    # Run the team and stream messages to the console\n",
    "    stream = agent_team.run_stream(task=\"What is the weather in New York?\")\n",
    "    await Console(stream)\n",
    "# \n",
    "# asyncio.run(main())\n",
    "\n",
    "await main()"
   ]
  },
  {
   "cell_type": "code",
   "execution_count": null,
   "metadata": {},
   "outputs": [],
   "source": []
  },
  {
   "cell_type": "code",
   "execution_count": null,
   "metadata": {},
   "outputs": [],
   "source": []
  },
  {
   "cell_type": "code",
   "execution_count": null,
   "metadata": {},
   "outputs": [],
   "source": []
  },
  {
   "cell_type": "code",
   "execution_count": null,
   "metadata": {},
   "outputs": [],
   "source": []
  },
  {
   "cell_type": "code",
   "execution_count": null,
   "metadata": {},
   "outputs": [],
   "source": []
  },
  {
   "cell_type": "code",
   "execution_count": null,
   "metadata": {},
   "outputs": [],
   "source": []
  }
 ],
 "metadata": {
  "kernelspec": {
   "display_name": "Python 3 (ipykernel)",
   "language": "python",
   "name": "python3"
  },
  "language_info": {
   "codemirror_mode": {
    "name": "ipython",
    "version": 3
   },
   "file_extension": ".py",
   "mimetype": "text/x-python",
   "name": "python",
   "nbconvert_exporter": "python",
   "pygments_lexer": "ipython3",
   "version": "3.10.16"
  }
 },
 "nbformat": 4,
 "nbformat_minor": 4
}
